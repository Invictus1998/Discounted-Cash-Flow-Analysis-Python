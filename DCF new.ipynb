{
 "cells": [
  {
   "cell_type": "code",
   "execution_count": 1,
   "metadata": {},
   "outputs": [],
   "source": [
    "import pandas as pd\n",
    "from pandas_datareader import data as wb\n",
    "from yahoo_fin.stock_info import *\n",
    "import requests\n",
    "import plotly.graph_objects as go\n",
    "import yfinance as yf\n",
    "import numpy as np\n",
    "import numpy_financial as npf\n",
    "import lxml\n",
    "from lxml import html\n",
    "from bs4 import BeautifulSoup as bs\n",
    "BS = []\n",
    "IS = []\n",
    "cfs = []\n",
    "years = []\n",
    "summary = []"
   ]
  },
  {
   "cell_type": "code",
   "execution_count": 2,
   "metadata": {},
   "outputs": [],
   "source": [
    "def get_data(stock):\n",
    "    global BS\n",
    "    global IS\n",
    "    global cfs\n",
    "    global years\n",
    "    global summary\n",
    "    IS=get_income_statement(stock)\n",
    "    BS=get_balance_sheet(stock)\n",
    "    cfs=get_cash_flow(stock)\n",
    "    years=BS.columns\n",
    "    summary=get_quote_table(stock)\n"
   ]
  },
  {
   "cell_type": "code",
   "execution_count": 31,
   "metadata": {},
   "outputs": [],
   "source": [
    "def DCF(stock):\n",
    "    get_data(stock)\n",
    "    risk_free=0.0169\n",
    "    risk_premium=0.056\n",
    "    g=0.02\n",
    "    beta=summary['Beta (5Y Monthly)']\n",
    "    cost_of_equity=risk_free+risk_premium*beta\n",
    "    #cost_of_debt=float(input('What is the bond yield of ' + str(stock) + ' ? '))\n",
    "   \n",
    "    \n",
    "    revenue_g=(IS[years[0]]['totalRevenue']-IS[years[1]]['totalRevenue'])/IS[years[1]]['totalRevenue']\n",
    "    #kako revenue growth go zeame fiksno posledniot godisen zabelezan growth na \n",
    "    #revenue i toj ostanuva konstanten preku site godini\n",
    "    income_statement = pd.DataFrame.from_dict(IS[years[0]])\n",
    "    income_statement.columns=['current_year']\n",
    "    \n",
    "    if income_statement['current_year']['interestExpense']==None:\n",
    "        income_statement['current_year']['interestExpense']=int(input('Enter the Interest Expense of the latest year of ' + stock + ' '))\n",
    "        income_statement['current_year']['interestExpense']=income_statement['current_year']['interestExpense']*-1\n",
    "    \n",
    "    #praenje na data frame i koristenje samo na poslednata godina\n",
    "    #pretstavuvanje na site elementi vo income statementot kako procent od revenue\n",
    "    income_statement['as_%_of_revenue']=income_statement/income_statement['current_year']['totalRevenue']\n",
    "    #posle ednakvoto prviot income_statement sto e, poradi to shto nema nikakvi \n",
    "    #tags za koloni i redovi raboti za celiot income_statement sto znaci deka \n",
    "    #operacijava ke se izvrsi za site elementi vo income_statementot\n",
    "    \n",
    "    #forecasting the next 5 years in the income statement\n",
    "    income_statement['next_year'] =  (income_statement['current_year']['totalRevenue'] * (1+revenue_g)) * income_statement['as_%_of_revenue'] \n",
    "    income_statement['next_2_year'] =  (income_statement['next_year']['totalRevenue'] * (1+revenue_g)) * income_statement['as_%_of_revenue'] \n",
    "    income_statement['next_3_year'] =  (income_statement['next_2_year']['totalRevenue'] * (1+revenue_g)) * income_statement['as_%_of_revenue'] \n",
    "    income_statement['next_4_year'] =  (income_statement['next_3_year']['totalRevenue'] * (1+revenue_g)) * income_statement['as_%_of_revenue'] \n",
    "    income_statement['next_5_year'] =  (income_statement['next_4_year']['totalRevenue'] * (1+revenue_g)) * income_statement['as_%_of_revenue']\n",
    "    #raboti na princip kade sto sekoja godina se polni kako vo for loop za site \n",
    "    #elementi so to sto totalRevenue se mnozi so revenue growth i to se mnozi so\n",
    "    #procentot od totalRevenue sekoj element sto go ima za sekoja od godinite\n",
    "\n",
    "    balance_sheet = pd.DataFrame.from_dict(BS[years[0]])\n",
    "    balance_sheet.columns=['current_year']\n",
    "    balance_sheet['as_%_of_revenue']=balance_sheet/income_statement['current_year']['totalRevenue']\n",
    "    \n",
    "    #forecasting the next 5 years in the Balance Sheet.\n",
    "    balance_sheet['next_year'] =  income_statement['next_year']['totalRevenue'] * balance_sheet['as_%_of_revenue']\n",
    "    balance_sheet['next_2_year'] =  income_statement['next_2_year'] ['totalRevenue'] * balance_sheet['as_%_of_revenue']\n",
    "    balance_sheet['next_3_year'] =  income_statement['next_3_year']['totalRevenue'] * balance_sheet['as_%_of_revenue'] \n",
    "    balance_sheet['next_4_year'] =  income_statement['next_4_year']['totalRevenue']  * balance_sheet['as_%_of_revenue'] \n",
    "    balance_sheet['next_5_year'] =  income_statement['next_5_year']['totalRevenue'] * balance_sheet['as_%_of_revenue']\n",
    "    #principot na predvidvenje e ist ko kaj income statement za sekoj od \n",
    "    #elementi na balance sheetot im naprajvme % of revenue i spored to pomnozeno\n",
    "    #so total revenue za taa godina ja dobivame vrednosta na toj element\n",
    "    \n",
    "    cash_flow = pd.DataFrame.from_dict(cfs[years[0]])\n",
    "    cash_flow.columns=['current_year']\n",
    "    \n",
    "    depreciation_per = cash_flow['current_year']['depreciation']/income_statement['current_year']['totalRevenue']\n",
    "    depreciation_fut = {}\n",
    "    depreciation_fut['next_year'] = income_statement['next_year']['totalRevenue']*depreciation_per\n",
    "    depreciation_fut['next_2_year'] = income_statement['next_2_year']['totalRevenue']*depreciation_per\n",
    "    depreciation_fut['next_3_year'] = income_statement['next_3_year']['totalRevenue']*depreciation_per\n",
    "    depreciation_fut['next_4_year'] = income_statement['next_4_year']['totalRevenue']*depreciation_per\n",
    "    depreciation_fut['next_5_year'] = income_statement['next_5_year']['totalRevenue']*depreciation_per\n",
    "    \n",
    "    #ova se e spored TESLA DCF sho go praev vo excel za forecasting the free cash flow\n",
    "    nopat={}\n",
    "    gross_cash_flow={}\n",
    "    inc_receivables={}\n",
    "    inc_inventory={}\n",
    "    inc_payables={}\n",
    "    inv_working_capital={}\n",
    "    capex={}\n",
    "    other_assets_liabilities={}\n",
    "    free_cash_flow_forecast={}\n",
    "    \n",
    "    #current year\n",
    "    nopat['current_year']=income_statement['current_year']['ebit']-income_statement['current_year']['incomeTaxExpense']\n",
    "    gross_cash_flow['current_year']=nopat['current_year']+cash_flow['current_year']['depreciation']\n",
    "    \n",
    "    inc_receivables['current_year']=BS[years[0]]['netReceivables'] - BS[years[1]]['netReceivables']\n",
    "    try:\n",
    "        inc_inventory['current_year']=BS[years[0]]['inventory'] - BS[years[1]]['inventory']\n",
    "    except:\n",
    "        pass\n",
    "    inc_payables['current_year']=BS[years[0]]['accountsPayable'] - BS[years[1]]['accountsPayable']  \n",
    "    \n",
    "    try:\n",
    "        inv_working_capital['current_year']=(inc_receivables['current_year'] *-1)+(inc_inventory['current_year']*-1)+inc_payables['current_year']\n",
    "    except:\n",
    "        inv_working_capital['current_year']=(inc_receivables['current_year'] *-1)+inc_payables['current_year']\n",
    "        pass\n",
    "    capex['current_year']=BS[years[0]]['propertyPlantEquipment']-BS[years[1]]['propertyPlantEquipment']+cash_flow['current_year']['depreciation']\n",
    "    \n",
    "    free_cash_flow_low = gross_cash_flow['current_year'] + inv_working_capital['current_year'] - capex['current_year']\n",
    "    real_current_free_cash=cash_flow['current_year']['totalCashFromOperatingActivities']+cash_flow['current_year']['capitalExpenditures']\n",
    "    other_assets_liabilities['current_year'] = real_current_free_cash - free_cash_flow_low\n",
    "    \n",
    "    other_per_revenue = other_assets_liabilities['current_year'] / income_statement['current_year']['totalRevenue']\n",
    "    \n",
    "    #formuli za presmetvenje na free cash flow za sekoja godina i datata za sekoja\n",
    "    #godina se skladira vo dictionaries. Za current year ne ni treba free cash\n",
    "    #flow, nego go koristime samo za da najme percentage na other assets i \n",
    "    #liabilities od revenue za spored toj procent da gi procenime za idnite godini\n",
    "    \n",
    "    #next year\n",
    "    nopat['next_year']=income_statement['next_year']['ebit']-income_statement['next_year']['incomeTaxExpense']\n",
    "    gross_cash_flow['next_year']=nopat['next_year']+depreciation_fut['next_year']\n",
    "    \n",
    "    inc_receivables['next_year']=balance_sheet['next_year']['netReceivables'] - balance_sheet['current_year']['netReceivables']\n",
    "    try:\n",
    "        inc_inventory['next_year']=balance_sheet['next_year']['inventory'] - balance_sheet['current_year']['inventory']\n",
    "    except:\n",
    "        pass\n",
    "    inc_payables['next_year']=balance_sheet['next_year']['accountsPayable'] - balance_sheet['current_year']['accountsPayable']\n",
    "    \n",
    "    try:\n",
    "        inv_working_capital['next_year']=(inc_receivables['next_year'] *-1)+(inc_inventory['next_year']*-1)+inc_payables['next_year']\n",
    "    except:\n",
    "        inv_working_capital['next_year']=(inc_receivables['next_year'] *-1)+inc_payables['next_year']\n",
    "        pass\n",
    "    capex['next_year']=balance_sheet['next_year']['propertyPlantEquipment']-balance_sheet['current_year']['propertyPlantEquipment']+depreciation_fut['next_year']\n",
    "    other_assets_liabilities['next_year'] = income_statement['next_year']['totalRevenue']*other_per_revenue\n",
    "    free_cash_flow_forecast['next_year']= gross_cash_flow['next_year'] + inv_working_capital['next_year'] - capex['next_year'] + other_assets_liabilities['next_year']\n",
    "    \n",
    "    #next 2 year\n",
    "    nopat['next_2_year']=income_statement['next_2_year']['ebit']-income_statement['next_2_year']['incomeTaxExpense']\n",
    "    gross_cash_flow['next_2_year']=nopat['next_2_year']+depreciation_fut['next_2_year']\n",
    "    \n",
    "    inc_receivables['next_2_year']=balance_sheet['next_2_year']['netReceivables'] - balance_sheet['next_year']['netReceivables']\n",
    "    try:\n",
    "        inc_inventory['next_2_year']=balance_sheet['next_2_year']['inventory'] - balance_sheet['next_year']['inventory']\n",
    "    except:\n",
    "        pass\n",
    "    inc_payables['next_2_year']=balance_sheet['next_2_year']['accountsPayable'] - balance_sheet['next_year']['accountsPayable']\n",
    "    \n",
    "    try:\n",
    "        inv_working_capital['next_2_year']=(inc_receivables['next_2_year'] *-1)+(inc_inventory['next_2_year']*-1)+inc_payables['next_2_year']\n",
    "    except:\n",
    "        inv_working_capital['next_2_year']=(inc_receivables['next_2_year'] *-1)+inc_payables['next_2_year']\n",
    "        pass\n",
    "    capex['next_2_year']=balance_sheet['next_2_year']['propertyPlantEquipment']-balance_sheet['next_year']['propertyPlantEquipment']+depreciation_fut['next_2_year']\n",
    "    other_assets_liabilities['next_2_year'] = income_statement['next_2_year']['totalRevenue']*other_per_revenue\n",
    "    free_cash_flow_forecast['next_2_year']= gross_cash_flow['next_2_year'] + inv_working_capital['next_2_year'] - capex['next_2_year'] + other_assets_liabilities['next_2_year']\n",
    "    \n",
    "    #next 3 year\n",
    "    nopat['next_3_year']=income_statement['next_3_year']['ebit']-income_statement['next_3_year']['incomeTaxExpense']\n",
    "    gross_cash_flow['next_3_year']=nopat['next_3_year']+depreciation_fut['next_3_year']\n",
    "    \n",
    "    inc_receivables['next_3_year']=balance_sheet['next_3_year']['netReceivables'] - balance_sheet['next_2_year']['netReceivables']\n",
    "    try:\n",
    "        inc_inventory['next_3_year']=balance_sheet['next_3_year']['inventory'] - balance_sheet['next_2_year']['inventory']\n",
    "    except:\n",
    "        pass\n",
    "    inc_payables['next_3_year']=balance_sheet['next_3_year']['accountsPayable'] - balance_sheet['next_2_year']['accountsPayable']\n",
    "    \n",
    "    try:\n",
    "        inv_working_capital['next_3_year']=(inc_receivables['next_3_year'] *-1)+(inc_inventory['next_3_year']*-1)+inc_payables['next_3_year']\n",
    "    except:\n",
    "        inv_working_capital['next_3_year']=(inc_receivables['next_3_year'] *-1)+inc_payables['next_3_year']\n",
    "        pass\n",
    "    capex['next_3_year']=balance_sheet['next_3_year']['propertyPlantEquipment']-balance_sheet['next_2_year']['propertyPlantEquipment']+depreciation_fut['next_3_year']\n",
    "    other_assets_liabilities['next_3_year'] = income_statement['next_3_year']['totalRevenue']*other_per_revenue\n",
    "    free_cash_flow_forecast['next_3_year']= gross_cash_flow['next_3_year'] + inv_working_capital['next_3_year'] - capex['next_3_year'] + other_assets_liabilities['next_3_year']\n",
    "    \n",
    "    #next 4 year\n",
    "    nopat['next_4_year']=income_statement['next_4_year']['ebit']-income_statement['next_4_year']['incomeTaxExpense']\n",
    "    gross_cash_flow['next_4_year']=nopat['next_4_year']+depreciation_fut['next_4_year']\n",
    "    \n",
    "    inc_receivables['next_4_year']=balance_sheet['next_4_year']['netReceivables'] - balance_sheet['next_3_year']['netReceivables']\n",
    "    try:\n",
    "        inc_inventory['next_4_year']=balance_sheet['next_4_year']['inventory'] - balance_sheet['next_3_year']['inventory']\n",
    "    except:\n",
    "        pass\n",
    "    inc_payables['next_4_year']=balance_sheet['next_4_year']['accountsPayable'] - balance_sheet['next_3_year']['accountsPayable']\n",
    "    \n",
    "    try:\n",
    "        inv_working_capital['next_4_year']=(inc_receivables['next_4_year'] *-1)+(inc_inventory['next_4_year']*-1)+inc_payables['next_4_year']\n",
    "    except:\n",
    "        inv_working_capital['next_4_year']=(inc_receivables['next_4_year'] *-1)+inc_payables['next_4_year']\n",
    "        pass\n",
    "    capex['next_4_year']=balance_sheet['next_4_year']['propertyPlantEquipment']-balance_sheet['next_4_year']['propertyPlantEquipment']+depreciation_fut['next_4_year']\n",
    "    other_assets_liabilities['next_4_year'] = income_statement['next_4_year']['totalRevenue']*other_per_revenue\n",
    "    free_cash_flow_forecast['next_4_year']= gross_cash_flow['next_4_year'] + inv_working_capital['next_4_year'] - capex['next_4_year'] + other_assets_liabilities['next_4_year']\n",
    "    \n",
    "    #next 5 year\n",
    "    nopat['next_5_year']=income_statement['next_5_year']['ebit']-income_statement['next_5_year']['incomeTaxExpense']\n",
    "    gross_cash_flow['next_5_year']=nopat['next_5_year']+depreciation_fut['next_5_year']\n",
    "    \n",
    "    inc_receivables['next_5_year']=balance_sheet['next_5_year']['netReceivables'] - balance_sheet['next_4_year']['netReceivables']\n",
    "    try:\n",
    "        inc_inventory['next_5_year']=balance_sheet['next_5_year']['inventory'] - balance_sheet['next_4_year']['inventory']\n",
    "    except:\n",
    "        pass\n",
    "    inc_payables['next_5_year']=balance_sheet['next_5_year']['accountsPayable'] - balance_sheet['next_4_year']['accountsPayable']\n",
    "    \n",
    "    try:\n",
    "        inv_working_capital['next_5_year']=(inc_receivables['next_5_year'] *-1)+(inc_inventory['next_5_year']*-1)+inc_payables['next_5_year']\n",
    "    except:\n",
    "        inv_working_capital['next_5_year']=(inc_receivables['next_5_year'] *-1)+inc_payables['next_5_year']\n",
    "        pass\n",
    "    capex['next_5_year']=balance_sheet['next_5_year']['propertyPlantEquipment']-balance_sheet['next_5_year']['propertyPlantEquipment']+depreciation_fut['next_5_year']\n",
    "    other_assets_liabilities['next_5_year'] = income_statement['next_5_year']['totalRevenue']*other_per_revenue\n",
    "    free_cash_flow_forecast['next_5_year']= gross_cash_flow['next_5_year'] + inv_working_capital['next_5_year'] - capex['next_5_year'] + other_assets_liabilities['next_5_year']\n",
    "    \n",
    "    #calculating the WACC TESLA DCF way\n",
    "    \n",
    "    #equity=wb.get_quote_yahoo('AAPL')['marketCap']\n",
    "    #debt1=balance_sheet['next_year']['longTermDebt']/(balance_sheet['next_year']['longTermDebt']+equity)\n",
    "    #equity1=equity/(balance_sheet['next_year']['longTermDebt']+equity)\n",
    "    #wacc = debt1 * cost_of_debt * (1-0.21) + equity1 * cost_of_equity\n",
    "    \n",
    "    #calculating the WACC guru way\n",
    "    \n",
    "    equity=wb.get_quote_yahoo('AAPL')['marketCap']\n",
    "    #getting the equity as a market cap\n",
    "    balance_sheet_url = (f'https://finance.yahoo.com/quote/{stock}/balance-sheet?p={stock}')\n",
    "    balance_sheet_html = requests.get(balance_sheet_url)\n",
    "    balance_sheet_soup = bs(balance_sheet_html.text, 'html.parser')\n",
    "    balance_sheet_table = balance_sheet_soup.find('div', class_='D(tbrg)')\n",
    "\n",
    "    total_debt_lst = []\n",
    "    total_debt_row = balance_sheet_table.find('div', attrs={'title':'Total Debt'}).parent.parent\n",
    "    for value in total_debt_row.find_all('div'):\n",
    "        value = value.text\n",
    "        value = value.replace(',','')\n",
    "        total_debt_lst.append(value)\n",
    "    total_debt_int = int(total_debt_lst[3])\n",
    "    total_debt_int=total_debt_int*1000\n",
    "    #ova e kodot za zemanje na total debt od yahoo finance preku beautiful soup\n",
    "    #princip ja zeame balance sheet stranata html, barame klasata na tabelata\n",
    "    #so podatocite sto ni trebaat i od niv vlecime samo total debt i na kraj \n",
    "    #posledniot total debt go konvertirame vo int\n",
    "    #total_debt_int go mnozime so 1000 radi to sho na yahoo finance podatocite\n",
    "    #se vo thousands\n",
    "    \n",
    "    \n",
    "        \n",
    "    equity1=equity/(total_debt_int+equity)\n",
    "    debt1=total_debt_int/(total_debt_int+equity)\n",
    "    cost_of_debt=(income_statement['current_year']['interestExpense']*-1)/total_debt_int        \n",
    "    wacc=debt1*cost_of_debt*(1-0.21)+equity1*cost_of_equity\n",
    "    #brojkive vo zagradava kaj wacc se za tax rate go zaokruzvime na 21%\n",
    "    \n",
    "    wacc_stock=wacc[0]\n",
    "    values=free_cash_flow_forecast.values()\n",
    "    fcf_list=list(values)\n",
    "    npv=npf.npv(wacc_stock,fcf_list)\n",
    "    #calculating the net present value of the sum of all the free cash flows forecasted\n",
    "    \n",
    "    Terminal_value=(free_cash_flow_forecast['next_5_year']*(1+g))/(wacc_stock-g)\n",
    "    Terminal_value_Discounted = Terminal_value/(1+wacc_stock)**5\n",
    "    Terminal_value_Discounted\n",
    "    #calculating the terminal value, i.e. the value of the company after 5 years\n",
    "    \n",
    "    enterprise_value=npv+Terminal_value_Discounted\n",
    "    cash=balance_sheet['current_year']['cash']\n",
    "    equity_value=enterprise_value+cash-total_debt_int\n",
    "    \n",
    "    shares=wb.get_quote_yahoo(stock)['sharesOutstanding']\n",
    "    forecasted_price=equity_value/shares\n",
    "    \n",
    "    forecasted_price_pure=forecasted_price[0]\n",
    "    equity_value_mln=equity_value/1000000\n",
    "    real_price=wb.get_quote_yahoo(stock)['price']\n",
    "    real_price_pure=real_price[0]\n",
    "    \n",
    "    print(stock + ' Current price per stock is ' + str(real_price_pure) )\n",
    "    print(stock + ' forecasted price per stock is ' + str(forecasted_price_pure) )\n",
    "    print('Equity value of '+ stock + \" is \" + str(equity_value_mln) + \" mln\" )\n",
    "    print('the forecast is based on the following assumptions: '+ 'revenue growth: ' + str(revenue_g) + ' Cost of Capital: ' + str(wacc_stock) )\n",
    "    print('perpetuity growth: ' + str(g))\n",
    "    \n",
    "    "
   ]
  },
  {
   "cell_type": "code",
   "execution_count": 32,
   "metadata": {
    "scrolled": false
   },
   "outputs": [
    {
     "name": "stdout",
     "output_type": "stream",
     "text": [
      "Write a stock ticker DCF AAPL\n",
      "AAPL Current price per stock is 134.84\n",
      "AAPL forecasted price per stock is 84.37606626461354\n",
      "Equity value of AAPL is 1416513.846157061 mln\n",
      "the forecast is based on the following assumptions: revenue growth: 0.055120803769784836 Cost of Capital: 0.08214269150673432\n",
      "perpetuity growth: 0.02\n",
      "Write a stock ticker quit\n"
     ]
    }
   ],
   "source": [
    "while True:\n",
    "    command=input('Write a stock ticker ')\n",
    "    #IS AAPL - example of text inserted\n",
    "    try:\n",
    "        stock=command.split(' ')[1]\n",
    "    #vo stock variable go delime stringot, t.e. inputot sho go vnesvime i \n",
    "    #mestoto na podelba e praznoto mesto i go zeame vtoriot del od splitot\n",
    "    except:\n",
    "        pass\n",
    "                \n",
    "    if command =='DCF ' + stock:\n",
    "        DCF(stock)\n",
    "               \n",
    "    elif command=='quit':\n",
    "        break\n",
    "        \n",
    "    else:\n",
    "        print('Statement is not valid')"
   ]
  },
  {
   "cell_type": "code",
   "execution_count": 4,
   "metadata": {},
   "outputs": [
    {
     "data": {
      "text/plain": [
       "1331000000"
      ]
     },
     "execution_count": 4,
     "metadata": {},
     "output_type": "execute_result"
    }
   ],
   "source": [
    "i=get_income_statement('DB', yearly=True)\n",
    "i.iat[2,2]\n",
    "#za konkretno vaganje na element od pozicija"
   ]
  },
  {
   "cell_type": "code",
   "execution_count": null,
   "metadata": {},
   "outputs": [],
   "source": [
    "i.keys()\n",
    "#showing column indexes"
   ]
  },
  {
   "cell_type": "code",
   "execution_count": 5,
   "metadata": {},
   "outputs": [],
   "source": [
    "years=i.columns\n",
    "#storing the column names in variavle years for accessing of data"
   ]
  },
  {
   "cell_type": "code",
   "execution_count": 6,
   "metadata": {},
   "outputs": [
    {
     "data": {
      "text/plain": [
       "Breakdown\n",
       "researchDevelopment                         None\n",
       "effectOfAccountingCharges                   None\n",
       "incomeBeforeTax                       1021000000\n",
       "minorityInterest                      1587000000\n",
       "netIncome                              495000000\n",
       "sellingGeneralAdministrative         19786000000\n",
       "grossProfit                          22236000000\n",
       "ebit                                           0\n",
       "operatingIncome                       2450000000\n",
       "otherOperatingExpenses                       NaN\n",
       "interestExpense                             None\n",
       "extraordinaryItems                          None\n",
       "nonRecurring                                None\n",
       "otherItems                                  None\n",
       "incomeTaxExpense                       397000000\n",
       "totalRevenue                         22236000000\n",
       "totalOperatingExpenses               19786000000\n",
       "costOfRevenue                                  0\n",
       "totalOtherIncomeExpenseNet           -1429000000\n",
       "discontinuedOperations                      None\n",
       "netIncomeFromContinuingOps             624000000\n",
       "netIncomeApplicableToCommonShares      146000000\n",
       "Name: 2020-12-31 00:00:00, dtype: object"
      ]
     },
     "execution_count": 6,
     "metadata": {},
     "output_type": "execute_result"
    }
   ],
   "source": [
    "i[years[0]]\n",
    "#printing the latest year of the company"
   ]
  },
  {
   "cell_type": "code",
   "execution_count": 7,
   "metadata": {},
   "outputs": [
    {
     "data": {
      "text/plain": [
       "0"
      ]
     },
     "execution_count": 7,
     "metadata": {},
     "output_type": "execute_result"
    }
   ],
   "source": [
    "i[years[0]]['ebit']\n",
    "#accessing a particular element from the first column and the name index\n",
    "#of the row"
   ]
  },
  {
   "cell_type": "code",
   "execution_count": 45,
   "metadata": {},
   "outputs": [
    {
     "name": "stdout",
     "output_type": "stream",
     "text": [
      "1.22\n"
     ]
    }
   ],
   "source": [
    "test1=get_quote_table('AAPL')\n",
    "print(test1['Beta (5Y Monthly)'])\n",
    "#ova e za zemanje data od yahoo finance summary page, konkretno za extract na\n",
    "#vrednosta na beta kolku e"
   ]
  },
  {
   "cell_type": "markdown",
   "metadata": {},
   "source": [
    "Note to self, opcii za vnesuvanje na tax rate ko input\n",
    "--------------------------"
   ]
  },
  {
   "cell_type": "code",
   "execution_count": 114,
   "metadata": {},
   "outputs": [
    {
     "name": "stdout",
     "output_type": "stream",
     "text": [
      "endDate                    2020-09-26    2019-09-28    2018-09-29  \\\n",
      "Breakdown                                                           \n",
      "totalLiab                258549000000  248028000000  258578000000   \n",
      "totalStockholderEquity    65339000000   90488000000  107147000000   \n",
      "otherCurrentLiab          47867000000   43242000000   39293000000   \n",
      "totalAssets              323888000000  338516000000  365725000000   \n",
      "commonStock               50779000000   45174000000   40201000000   \n",
      "otherCurrentAssets        11264000000   12352000000   12087000000   \n",
      "retainedEarnings          14966000000   45898000000   70400000000   \n",
      "otherLiab                 46108000000   50503000000   48914000000   \n",
      "treasuryStock              -406000000    -584000000   -3454000000   \n",
      "otherAssets               33952000000   32978000000   22283000000   \n",
      "cash                      38016000000   48844000000   25913000000   \n",
      "totalCurrentLiabilities  105392000000  105718000000  115929000000   \n",
      "shortLongTermDebt          8773000000   10260000000    8784000000   \n",
      "otherStockholderEquity     -406000000    -584000000   -3454000000   \n",
      "propertyPlantEquipment    45336000000   37378000000   41304000000   \n",
      "totalCurrentAssets       143713000000  162819000000  131339000000   \n",
      "longTermInvestments      100887000000  105341000000  170799000000   \n",
      "netTangibleAssets         65339000000   90488000000  107147000000   \n",
      "shortTermInvestments      52927000000   51713000000   40388000000   \n",
      "netReceivables            37445000000   45804000000   48995000000   \n",
      "longTermDebt              98667000000   91807000000   93735000000   \n",
      "inventory                  4061000000    4106000000    3956000000   \n",
      "accountsPayable           42296000000   46236000000   55888000000   \n",
      "\n",
      "endDate                    2017-09-30  \n",
      "Breakdown                              \n",
      "totalLiab                241272000000  \n",
      "totalStockholderEquity   134047000000  \n",
      "otherCurrentLiab          38099000000  \n",
      "totalAssets              375319000000  \n",
      "commonStock               35867000000  \n",
      "otherCurrentAssets        13936000000  \n",
      "retainedEarnings          98330000000  \n",
      "otherLiab                 43251000000  \n",
      "treasuryStock              -150000000  \n",
      "otherAssets               18177000000  \n",
      "cash                      20289000000  \n",
      "totalCurrentLiabilities  100814000000  \n",
      "shortLongTermDebt          6496000000  \n",
      "otherStockholderEquity     -150000000  \n",
      "propertyPlantEquipment    33783000000  \n",
      "totalCurrentAssets       128645000000  \n",
      "longTermInvestments      194714000000  \n",
      "netTangibleAssets        134047000000  \n",
      "shortTermInvestments      53892000000  \n",
      "netReceivables            35673000000  \n",
      "longTermDebt              97207000000  \n",
      "inventory                  4855000000  \n",
      "accountsPayable           44242000000  \n"
     ]
    }
   ],
   "source": [
    "test2=wb.get_quote_yahoo('AAPL')['marketCap']\n",
    "test3=get_balance_sheet('MSFT')\n",
    "print(BS)"
   ]
  },
  {
   "cell_type": "code",
   "execution_count": 17,
   "metadata": {},
   "outputs": [
    {
     "name": "stdout",
     "output_type": "stream",
     "text": [
      "<Response [200]>\n",
      "<Element html at 0x2114eaaf770>\n",
      "[<Element div at 0x2114eaaf5e0>, <Element div at 0x2114eaaf6d0>, <Element div at 0x2114eaaf4f0>, <Element div at 0x2114eaafe00>, <Element div at 0x2114eaafbd0>, <Element div at 0x2114eaaf950>, <Element div at 0x2114eaafdb0>, <Element div at 0x2114eaafe50>, <Element div at 0x2114eaaf360>, <Element div at 0x2114eaafd10>, <Element div at 0x2114eaaf630>, <Element div at 0x2114eaafcc0>, <Element div at 0x2114eaafc70>, <Element div at 0x2114eaafc20>]\n"
     ]
    }
   ],
   "source": [
    "bala=requests.get('https://finance.yahoo.com/quote/AAPL/balance-sheet?p=AAPL')\n",
    "tree = html.fromstring(bala.content)\n",
    "table_rows = tree.xpath(\"//div[contains(@class, 'D(tbr)')]\")\n",
    "print(bala)\n",
    "print(tree)\n",
    "print(table_rows)"
   ]
  },
  {
   "cell_type": "code",
   "execution_count": 11,
   "metadata": {
    "scrolled": false
   },
   "outputs": [],
   "source": [
    "url = ('https://finance.yahoo.com/quote/AAPL/balance-sheet?p=AAPL')\n",
    "html_content = requests.get(url).text\n",
    "# Make a GET request to fetch the raw HTML content\n",
    "\n",
    "# Parse the html content\n",
    "soup = BeautifulSoup(html_content, \"lxml\")\n",
    "#print(soup.prettify()) \n",
    "# print the parsed data of html\n",
    "#comentiraniov kod gore e za cela html data da ja prikazi\n",
    "\n",
    "#for link in soup.find_all(\"a\"):\n",
    " #   print(\"Inner Text: {}\".format(link.text))\n",
    "  #  print(\"Title: {}\".format(link.get(\"title\")))\n",
    "   # print(\"href: {}\".format(link.get(\"href\")))\n",
    "#za zemanje na site linkovi vo stranata\n",
    "    \n"
   ]
  },
  {
   "cell_type": "code",
   "execution_count": 19,
   "metadata": {},
   "outputs": [
    {
     "name": "stdout",
     "output_type": "stream",
     "text": [
      "['Total Debt', 'Total Debt', '', '112436000', '108047000', '114483000', '115680000']\n",
      "112436000\n"
     ]
    }
   ],
   "source": [
    "#balance_sheet_url = '<https://finance.yahoo.com/quote/>' + stock + '/balance-sheet?p=' + stock\n",
    "#ova e primer za kako spored variabla da go zeam\n",
    "\n",
    "balance_sheet_url = 'https://finance.yahoo.com/quote/AAPL/balance-sheet?p=AAPL'\n",
    "balance_sheet_html = requests.get(balance_sheet_url)\n",
    "balance_sheet_soup = bs(balance_sheet_html.text, 'html.parser')\n",
    "\n",
    "balance_sheet_table = balance_sheet_soup.find('div', class_='D(tbrg)')\n",
    "\n",
    "total_debt_lst = []\n",
    "\n",
    "total_debt_row = balance_sheet_table.find('div', attrs={'title':'Total Debt'}).parent.parent\n",
    "for value in total_debt_row.find_all('div'):\n",
    "    value = value.text\n",
    "    value = value.replace(',','')\n",
    "    total_debt_lst.append(value)\n",
    "total_debt_int = int(total_debt_lst[3])\n",
    "\n",
    "print(total_debt_lst)\n",
    "print(total_debt_int)\n",
    "#ova e kodot za zemanje na total debt od yahoo finance preku beautiful soup\n",
    "#princip ja zeame balance sheet stranata html, barame klasata na tabelata\n",
    "#so podatocite sto ni trebaat i od niv vlecime samo total debt i na kraj \n",
    "#posledniot total debt go konvertirame vo int"
   ]
  },
  {
   "cell_type": "code",
   "execution_count": 90,
   "metadata": {},
   "outputs": [
    {
     "name": "stdout",
     "output_type": "stream",
     "text": [
      "AAPL    134.16\n",
      "Name: price, dtype: float64\n"
     ]
    }
   ],
   "source": [
    "test4=wb.get_quote_yahoo('AAPL')['price']\n",
    "print(test4)"
   ]
  }
 ],
 "metadata": {
  "kernelspec": {
   "display_name": "Python 3",
   "language": "python",
   "name": "python3"
  },
  "language_info": {
   "codemirror_mode": {
    "name": "ipython",
    "version": 3
   },
   "file_extension": ".py",
   "mimetype": "text/x-python",
   "name": "python",
   "nbconvert_exporter": "python",
   "pygments_lexer": "ipython3",
   "version": "3.8.5"
  }
 },
 "nbformat": 4,
 "nbformat_minor": 4
}
